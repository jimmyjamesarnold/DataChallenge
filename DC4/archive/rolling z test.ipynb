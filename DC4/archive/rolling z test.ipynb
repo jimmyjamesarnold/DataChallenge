{
 "cells": [
  {
   "cell_type": "markdown",
   "metadata": {},
   "source": [
    "# Title\n",
    "Notebook by Jim Arnold"
   ]
  },
  {
   "cell_type": "markdown",
   "metadata": {},
   "source": [
    "## Executive Summary\n",
    "Concise summary and recommendations"
   ]
  },
  {
   "cell_type": "markdown",
   "metadata": {},
   "source": [
    "## Introduction\n",
    "State notebook purpose here"
   ]
  },
  {
   "cell_type": "markdown",
   "metadata": {},
   "source": [
    "## Prepare Data"
   ]
  },
  {
   "cell_type": "code",
   "execution_count": 3,
   "metadata": {},
   "outputs": [],
   "source": [
    "# Standard DS stack\n",
    "import numpy as np\n",
    "import pandas as pd\n",
    "import seaborn as sns\n",
    "import matplotlib.pyplot as plt\n",
    "# set plot defaults\n",
    "sns.set(context='poster', style='white')"
   ]
  },
  {
   "cell_type": "code",
   "execution_count": 5,
   "metadata": {},
   "outputs": [
    {
     "name": "stderr",
     "output_type": "stream",
     "text": [
      "/home/jim/anaconda3/lib/python3.7/site-packages/ipykernel_launcher.py:15: FutureWarning: Currently, 'apply' passes the values as ndarrays to the applied function. In the future, this will change to passing it as Series objects. You need to specify 'raw=True' to keep the current behaviour, and you can pass 'raw=False' to silence this warning\n",
      "  from ipykernel import kernelapp as app\n"
     ]
    }
   ],
   "source": [
    "# Import dataset(s) here, or connect to SQL\n",
    "np.random.seed(2017)\n",
    "\n",
    "def zscore(x, window):\n",
    "    r = x.rolling(window=window)\n",
    "    m = r.mean().shift(1)\n",
    "    s = r.std(ddof=0).shift(1)\n",
    "    z = (x-m)/s\n",
    "    return z\n",
    "\n",
    "\n",
    "def zscore_using_apply(x, window):\n",
    "    def zscore_func(x):\n",
    "        return (x[-1] - x[:-1].mean())/x[:-1].std(ddof=0)\n",
    "    return x.rolling(window=window+1).apply(zscore_func)\n",
    "\n",
    "N = 5\n",
    "x = pd.Series((np.random.random(100) - 0.5).cumsum())\n",
    "\n",
    "result = zscore(x, N)\n",
    "alt = zscore_using_apply(x, N)\n",
    "\n",
    "assert not ((result - alt).abs() > 1e-8).any()"
   ]
  },
  {
   "cell_type": "code",
   "execution_count": 7,
   "metadata": {},
   "outputs": [
    {
     "data": {
      "text/plain": [
       "0    -0.479040\n",
       "1    -0.211970\n",
       "2    -0.264050\n",
       "3    -0.643508\n",
       "4    -0.212735\n",
       "5    -0.063185\n",
       "6    -0.422514\n",
       "7    -0.690919\n",
       "8    -0.964444\n",
       "9    -1.204389\n",
       "10   -1.591517\n",
       "11   -1.459612\n",
       "12   -1.572304\n",
       "13   -1.756058\n",
       "14   -1.625168\n",
       "15   -1.830517\n",
       "16   -1.385652\n",
       "17   -1.734026\n",
       "18   -2.157857\n",
       "19   -1.953948\n",
       "20   -2.383868\n",
       "21   -2.576829\n",
       "22   -2.744810\n",
       "23   -2.935188\n",
       "24   -2.997532\n",
       "25   -2.730688\n",
       "26   -2.757291\n",
       "27   -3.251142\n",
       "28   -3.049868\n",
       "29   -2.920528\n",
       "        ...   \n",
       "70   -3.193631\n",
       "71   -3.174695\n",
       "72   -2.969260\n",
       "73   -3.259592\n",
       "74   -3.360634\n",
       "75   -3.728856\n",
       "76   -3.330997\n",
       "77   -3.410981\n",
       "78   -3.738880\n",
       "79   -3.944213\n",
       "80   -4.420169\n",
       "81   -3.975428\n",
       "82   -4.218948\n",
       "83   -4.710898\n",
       "84   -4.418213\n",
       "85   -3.938477\n",
       "86   -3.462702\n",
       "87   -3.752924\n",
       "88   -4.107258\n",
       "89   -3.975237\n",
       "90   -3.710889\n",
       "91   -3.859616\n",
       "92   -4.200748\n",
       "93   -4.507295\n",
       "94   -4.159908\n",
       "95   -4.128566\n",
       "96   -3.998502\n",
       "97   -3.694345\n",
       "98   -3.458282\n",
       "99   -3.201568\n",
       "Length: 100, dtype: float64"
      ]
     },
     "execution_count": 7,
     "metadata": {},
     "output_type": "execute_result"
    }
   ],
   "source": [
    "x"
   ]
  },
  {
   "cell_type": "markdown",
   "metadata": {},
   "source": [
    "## EDA"
   ]
  },
  {
   "cell_type": "markdown",
   "metadata": {},
   "source": [
    "## Analysis/Modeling"
   ]
  },
  {
   "cell_type": "markdown",
   "metadata": {},
   "source": [
    "## Results"
   ]
  },
  {
   "cell_type": "markdown",
   "metadata": {},
   "source": [
    "## Conclusions and Next Steps"
   ]
  },
  {
   "cell_type": "code",
   "execution_count": null,
   "metadata": {},
   "outputs": [],
   "source": []
  }
 ],
 "metadata": {
  "kernelspec": {
   "display_name": "Python 3",
   "language": "python",
   "name": "python3"
  },
  "language_info": {
   "codemirror_mode": {
    "name": "ipython",
    "version": 3
   },
   "file_extension": ".py",
   "mimetype": "text/x-python",
   "name": "python",
   "nbconvert_exporter": "python",
   "pygments_lexer": "ipython3",
   "version": "3.7.1"
  },
  "toc": {
   "base_numbering": 1,
   "nav_menu": {},
   "number_sections": true,
   "sideBar": true,
   "skip_h1_title": true,
   "title_cell": "Table of Contents",
   "title_sidebar": "Contents",
   "toc_cell": false,
   "toc_position": {},
   "toc_section_display": true,
   "toc_window_display": false
  },
  "varInspector": {
   "cols": {
    "lenName": 16,
    "lenType": 16,
    "lenVar": 40
   },
   "kernels_config": {
    "python": {
     "delete_cmd_postfix": "",
     "delete_cmd_prefix": "del ",
     "library": "var_list.py",
     "varRefreshCmd": "print(var_dic_list())"
    },
    "r": {
     "delete_cmd_postfix": ") ",
     "delete_cmd_prefix": "rm(",
     "library": "var_list.r",
     "varRefreshCmd": "cat(var_dic_list()) "
    }
   },
   "types_to_exclude": [
    "module",
    "function",
    "builtin_function_or_method",
    "instance",
    "_Feature"
   ],
   "window_display": false
  }
 },
 "nbformat": 4,
 "nbformat_minor": 2
}
